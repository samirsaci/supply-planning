{
 "cells": [
  {
   "cell_type": "code",
   "execution_count": 12,
   "metadata": {
    "collapsed": true
   },
   "outputs": [],
   "source": [
    "import pandas as pd\n",
    "from pulp import *\n",
    "import numpy as np\n",
    "np.random.seed(0)"
   ]
  },
  {
   "cell_type": "markdown",
   "metadata": {
    "collapsed": true
   },
   "source": [
    "### Parameters\n",
    "#### Inbound Costs"
   ]
  },
  {
   "cell_type": "code",
   "execution_count": 13,
   "metadata": {},
   "outputs": [
    {
     "data": {
      "text/html": [
       "<div>\n",
       "<style scoped>\n",
       "    .dataframe tbody tr th:only-of-type {\n",
       "        vertical-align: middle;\n",
       "    }\n",
       "\n",
       "    .dataframe tbody tr th {\n",
       "        vertical-align: top;\n",
       "    }\n",
       "\n",
       "    .dataframe thead th {\n",
       "        text-align: right;\n",
       "    }\n",
       "</style>\n",
       "<table border=\"1\" class=\"dataframe\">\n",
       "  <thead>\n",
       "    <tr style=\"text-align: right;\">\n",
       "      <th></th>\n",
       "      <th>FROM</th>\n",
       "      <th>D1</th>\n",
       "      <th>D2</th>\n",
       "    </tr>\n",
       "  </thead>\n",
       "  <tbody>\n",
       "    <tr>\n",
       "      <th>0</th>\n",
       "      <td>P1</td>\n",
       "      <td>3.0</td>\n",
       "      <td>5.0</td>\n",
       "    </tr>\n",
       "    <tr>\n",
       "      <th>1</th>\n",
       "      <td>P2</td>\n",
       "      <td>2.3</td>\n",
       "      <td>6.6</td>\n",
       "    </tr>\n",
       "  </tbody>\n",
       "</table>\n",
       "</div>"
      ],
      "text/plain": [
       "  FROM   D1   D2\n",
       "0   P1  3.0  5.0\n",
       "1   P2  2.3  6.6"
      ]
     },
     "execution_count": 13,
     "metadata": {},
     "output_type": "execute_result"
    }
   ],
   "source": [
    "# Inbound Costs\n",
    "df_inbound = pd.read_csv('df_inprice.csv', index_col = 0)\n",
    "df_inbound"
   ]
  },
  {
   "cell_type": "markdown",
   "metadata": {},
   "source": [
    "#### Outbound Costs"
   ]
  },
  {
   "cell_type": "code",
   "execution_count": 14,
   "metadata": {},
   "outputs": [
    {
     "data": {
      "text/html": [
       "<div>\n",
       "<style scoped>\n",
       "    .dataframe tbody tr th:only-of-type {\n",
       "        vertical-align: middle;\n",
       "    }\n",
       "\n",
       "    .dataframe tbody tr th {\n",
       "        vertical-align: top;\n",
       "    }\n",
       "\n",
       "    .dataframe thead th {\n",
       "        text-align: right;\n",
       "    }\n",
       "</style>\n",
       "<table border=\"1\" class=\"dataframe\">\n",
       "  <thead>\n",
       "    <tr style=\"text-align: right;\">\n",
       "      <th></th>\n",
       "      <th>from</th>\n",
       "      <th>S1</th>\n",
       "      <th>S2</th>\n",
       "      <th>S3</th>\n",
       "      <th>S4</th>\n",
       "      <th>S5</th>\n",
       "      <th>S6</th>\n",
       "      <th>S7</th>\n",
       "      <th>S8</th>\n",
       "      <th>S9</th>\n",
       "      <th>...</th>\n",
       "      <th>S191</th>\n",
       "      <th>S192</th>\n",
       "      <th>S193</th>\n",
       "      <th>S194</th>\n",
       "      <th>S195</th>\n",
       "      <th>S196</th>\n",
       "      <th>S197</th>\n",
       "      <th>S198</th>\n",
       "      <th>S199</th>\n",
       "      <th>S200</th>\n",
       "    </tr>\n",
       "  </thead>\n",
       "  <tbody>\n",
       "    <tr>\n",
       "      <th>0</th>\n",
       "      <td>D1</td>\n",
       "      <td>2.30</td>\n",
       "      <td>4.23</td>\n",
       "      <td>2.26</td>\n",
       "      <td>3.38</td>\n",
       "      <td>1.59</td>\n",
       "      <td>2.01</td>\n",
       "      <td>5.32</td>\n",
       "      <td>6.63</td>\n",
       "      <td>2.38</td>\n",
       "      <td>...</td>\n",
       "      <td>5.86</td>\n",
       "      <td>8.30</td>\n",
       "      <td>3.02</td>\n",
       "      <td>1.01</td>\n",
       "      <td>2.77</td>\n",
       "      <td>2.96</td>\n",
       "      <td>3.53</td>\n",
       "      <td>8.60</td>\n",
       "      <td>2.77</td>\n",
       "      <td>7.06</td>\n",
       "    </tr>\n",
       "    <tr>\n",
       "      <th>1</th>\n",
       "      <td>D2</td>\n",
       "      <td>5.31</td>\n",
       "      <td>2.18</td>\n",
       "      <td>8.52</td>\n",
       "      <td>8.34</td>\n",
       "      <td>4.59</td>\n",
       "      <td>1.04</td>\n",
       "      <td>1.89</td>\n",
       "      <td>6.45</td>\n",
       "      <td>8.35</td>\n",
       "      <td>...</td>\n",
       "      <td>7.54</td>\n",
       "      <td>2.11</td>\n",
       "      <td>4.33</td>\n",
       "      <td>1.54</td>\n",
       "      <td>4.75</td>\n",
       "      <td>7.84</td>\n",
       "      <td>8.21</td>\n",
       "      <td>4.51</td>\n",
       "      <td>3.27</td>\n",
       "      <td>3.13</td>\n",
       "    </tr>\n",
       "  </tbody>\n",
       "</table>\n",
       "<p>2 rows × 201 columns</p>\n",
       "</div>"
      ],
      "text/plain": [
       "  from    S1    S2    S3    S4    S5    S6    S7    S8    S9  ...  S191  S192  \\\n",
       "0   D1  2.30  4.23  2.26  3.38  1.59  2.01  5.32  6.63  2.38  ...  5.86  8.30   \n",
       "1   D2  5.31  2.18  8.52  8.34  4.59  1.04  1.89  6.45  8.35  ...  7.54  2.11   \n",
       "\n",
       "   S193  S194  S195  S196  S197  S198  S199  S200  \n",
       "0  3.02  1.01  2.77  2.96  3.53  8.60  2.77  7.06  \n",
       "1  4.33  1.54  4.75  7.84  8.21  4.51  3.27  3.13  \n",
       "\n",
       "[2 rows x 201 columns]"
      ]
     },
     "execution_count": 14,
     "metadata": {},
     "output_type": "execute_result"
    }
   ],
   "source": [
    "# Outbound Costs\n",
    "df_outbound = pd.read_csv('df_outprice.csv', index_col = 0)\n",
    "df_outbound"
   ]
  },
  {
   "cell_type": "code",
   "execution_count": 15,
   "metadata": {},
   "outputs": [
    {
     "name": "stdout",
     "output_type": "stream",
     "text": [
      "400 records\n"
     ]
    },
    {
     "data": {
      "text/html": [
       "<div>\n",
       "<style scoped>\n",
       "    .dataframe tbody tr th:only-of-type {\n",
       "        vertical-align: middle;\n",
       "    }\n",
       "\n",
       "    .dataframe tbody tr th {\n",
       "        vertical-align: top;\n",
       "    }\n",
       "\n",
       "    .dataframe thead th {\n",
       "        text-align: right;\n",
       "    }\n",
       "</style>\n",
       "<table border=\"1\" class=\"dataframe\">\n",
       "  <thead>\n",
       "    <tr style=\"text-align: right;\">\n",
       "      <th></th>\n",
       "      <th>index</th>\n",
       "      <th>from</th>\n",
       "      <th>value</th>\n",
       "    </tr>\n",
       "  </thead>\n",
       "  <tbody>\n",
       "    <tr>\n",
       "      <th>0</th>\n",
       "      <td>S1</td>\n",
       "      <td>D1</td>\n",
       "      <td>2.30</td>\n",
       "    </tr>\n",
       "    <tr>\n",
       "      <th>1</th>\n",
       "      <td>S2</td>\n",
       "      <td>D1</td>\n",
       "      <td>4.23</td>\n",
       "    </tr>\n",
       "    <tr>\n",
       "      <th>2</th>\n",
       "      <td>S3</td>\n",
       "      <td>D1</td>\n",
       "      <td>2.26</td>\n",
       "    </tr>\n",
       "    <tr>\n",
       "      <th>3</th>\n",
       "      <td>S4</td>\n",
       "      <td>D1</td>\n",
       "      <td>3.38</td>\n",
       "    </tr>\n",
       "    <tr>\n",
       "      <th>4</th>\n",
       "      <td>S5</td>\n",
       "      <td>D1</td>\n",
       "      <td>1.59</td>\n",
       "    </tr>\n",
       "  </tbody>\n",
       "</table>\n",
       "</div>"
      ],
      "text/plain": [
       "  index from  value\n",
       "0    S1   D1   2.30\n",
       "1    S2   D1   4.23\n",
       "2    S3   D1   2.26\n",
       "3    S4   D1   3.38\n",
       "4    S5   D1   1.59"
      ]
     },
     "execution_count": 15,
     "metadata": {},
     "output_type": "execute_result"
    }
   ],
   "source": [
    "# Melting DataFrame\n",
    "df_melt = pd.melt(df_outbound.set_index('from').T.reset_index(), id_vars=['index'], value_vars=['D1', 'D2'])\n",
    "print(\"{:,} records\".format(len(df_melt)))\n",
    "df_melt.head()"
   ]
  },
  {
   "cell_type": "markdown",
   "metadata": {},
   "source": [
    "### Plot Outbound Transportation Costs BoxPlot"
   ]
  },
  {
   "cell_type": "code",
   "execution_count": 16,
   "metadata": {},
   "outputs": [
    {
     "data": {
      "image/png": "[encoded data removed]",
      "text/plain": [
       "<Figure size 864x432 with 1 Axes>"
      ]
     },
     "metadata": {},
     "output_type": "display_data"
    }
   ],
   "source": [
    "import matplotlib.pyplot as plt\n",
    "import seaborn as sns\n",
    "plt.figure(figsize=(12, 6))\n",
    "ax = sns.boxplot(x='from', y='value', data=df_melt, color='#99c2a2')\n",
    "# ax = sns.swarmplot(x=\"from\", y=\"value\", data=df_melt, color='#7d0013')\n",
    "plt.xlabel('Distribution Center')\n",
    "plt.ylabel('Outbound Transportation Unit Costs ($/Carton)')\n",
    "plt.show()"
   ]
  },
  {
   "cell_type": "markdown",
   "metadata": {},
   "source": [
    "### Production Plant Capacity"
   ]
  },
  {
   "cell_type": "code",
   "execution_count": 17,
   "metadata": {},
   "outputs": [
    {
     "data": {
      "text/html": [
       "<div>\n",
       "<style scoped>\n",
       "    .dataframe tbody tr th:only-of-type {\n",
       "        vertical-align: middle;\n",
       "    }\n",
       "\n",
       "    .dataframe tbody tr th {\n",
       "        vertical-align: top;\n",
       "    }\n",
       "\n",
       "    .dataframe thead th {\n",
       "        text-align: right;\n",
       "    }\n",
       "</style>\n",
       "<table border=\"1\" class=\"dataframe\">\n",
       "  <thead>\n",
       "    <tr style=\"text-align: right;\">\n",
       "      <th></th>\n",
       "      <th>plant</th>\n",
       "      <th>max</th>\n",
       "    </tr>\n",
       "  </thead>\n",
       "  <tbody>\n",
       "    <tr>\n",
       "      <th>0</th>\n",
       "      <td>P1</td>\n",
       "      <td>200</td>\n",
       "    </tr>\n",
       "    <tr>\n",
       "      <th>1</th>\n",
       "      <td>P2</td>\n",
       "      <td>300</td>\n",
       "    </tr>\n",
       "  </tbody>\n",
       "</table>\n",
       "</div>"
      ],
      "text/plain": [
       "  plant  max\n",
       "0    P1  200\n",
       "1    P2  300"
      ]
     },
     "execution_count": 17,
     "metadata": {},
     "output_type": "execute_result"
    }
   ],
   "source": [
    "# Production capacity\n",
    "df_prod = pd.DataFrame({\n",
    "    'plant': ['P1','P2'],\n",
    "    'max': [200, 300],\n",
    "})[['plant', 'max']]\n",
    "df_prod"
   ]
  },
  {
   "cell_type": "code",
   "execution_count": 18,
   "metadata": {},
   "outputs": [
    {
     "data": {
      "text/html": [
       "<div>\n",
       "<style scoped>\n",
       "    .dataframe tbody tr th:only-of-type {\n",
       "        vertical-align: middle;\n",
       "    }\n",
       "\n",
       "    .dataframe tbody tr th {\n",
       "        vertical-align: top;\n",
       "    }\n",
       "\n",
       "    .dataframe thead th {\n",
       "        text-align: right;\n",
       "    }\n",
       "</style>\n",
       "<table border=\"1\" class=\"dataframe\">\n",
       "  <thead>\n",
       "    <tr style=\"text-align: right;\">\n",
       "      <th></th>\n",
       "      <th>DC</th>\n",
       "      <th>CAPACITY</th>\n",
       "    </tr>\n",
       "  </thead>\n",
       "  <tbody>\n",
       "    <tr>\n",
       "      <th>0</th>\n",
       "      <td>D1</td>\n",
       "      <td>450</td>\n",
       "    </tr>\n",
       "    <tr>\n",
       "      <th>1</th>\n",
       "      <td>D2</td>\n",
       "      <td>300</td>\n",
       "    </tr>\n",
       "  </tbody>\n",
       "</table>\n",
       "</div>"
      ],
      "text/plain": [
       "   DC  CAPACITY\n",
       "0  D1       450\n",
       "1  D2       300"
      ]
     },
     "execution_count": 18,
     "metadata": {},
     "output_type": "execute_result"
    }
   ],
   "source": [
    "# Cross-Docking Capacity\n",
    "df_t = pd.DataFrame({\n",
    "    'DC': ['D1','D2'],\n",
    "    'CAPACITY': [450, 300]\n",
    "})[['DC', 'CAPACITY']]\n",
    "df_t"
   ]
  },
  {
   "cell_type": "markdown",
   "metadata": {},
   "source": [
    "### Demand Data"
   ]
  },
  {
   "cell_type": "code",
   "execution_count": 19,
   "metadata": {},
   "outputs": [
    {
     "name": "stdout",
     "output_type": "stream",
     "text": [
      "31,806 total demand\n"
     ]
    },
    {
     "data": {
      "text/html": [
       "<div>\n",
       "<style scoped>\n",
       "    .dataframe tbody tr th:only-of-type {\n",
       "        vertical-align: middle;\n",
       "    }\n",
       "\n",
       "    .dataframe tbody tr th {\n",
       "        vertical-align: top;\n",
       "    }\n",
       "\n",
       "    .dataframe thead th {\n",
       "        text-align: right;\n",
       "    }\n",
       "</style>\n",
       "<table border=\"1\" class=\"dataframe\">\n",
       "  <thead>\n",
       "    <tr style=\"text-align: right;\">\n",
       "      <th></th>\n",
       "      <th>STORE</th>\n",
       "      <th>DEMAND</th>\n",
       "    </tr>\n",
       "  </thead>\n",
       "  <tbody>\n",
       "    <tr>\n",
       "      <th>0</th>\n",
       "      <td>D1</td>\n",
       "      <td>244</td>\n",
       "    </tr>\n",
       "    <tr>\n",
       "      <th>1</th>\n",
       "      <td>D2</td>\n",
       "      <td>172</td>\n",
       "    </tr>\n",
       "    <tr>\n",
       "      <th>2</th>\n",
       "      <td>D3</td>\n",
       "      <td>124</td>\n",
       "    </tr>\n",
       "    <tr>\n",
       "      <th>3</th>\n",
       "      <td>D4</td>\n",
       "      <td>90</td>\n",
       "    </tr>\n",
       "    <tr>\n",
       "      <th>4</th>\n",
       "      <td>D5</td>\n",
       "      <td>158</td>\n",
       "    </tr>\n",
       "  </tbody>\n",
       "</table>\n",
       "</div>"
      ],
      "text/plain": [
       "  STORE  DEMAND\n",
       "0    D1     244\n",
       "1    D2     172\n",
       "2    D3     124\n",
       "3    D4      90\n",
       "4    D5     158"
      ]
     },
     "execution_count": 19,
     "metadata": {},
     "output_type": "execute_result"
    }
   ],
   "source": [
    "# Demand\n",
    "df_demand = pd.read_csv('df_demand.csv', index_col = 0)\n",
    "print(\"{:,} total demand\".format(df_demand.DEMAND.sum()))\n",
    "df_demand.head()"
   ]
  },
  {
   "cell_type": "markdown",
   "metadata": {},
   "source": [
    "### Build the Optimization Model"
   ]
  },
  {
   "cell_type": "code",
   "execution_count": 20,
   "metadata": {},
   "outputs": [
    {
     "name": "stdout",
     "output_type": "stream",
     "text": [
      "Optimal\n",
      "Objective: z* = 217189.3199999999\n"
     ]
    }
   ],
   "source": [
    "# 1. Initiliaze Class\n",
    "model = LpProblem(\"Transhipment_Problem\", LpMinimize)\n",
    "\n",
    "# 2. Define Decision Variables\n",
    "# Inbound Flows\n",
    "I = LpVariable.dicts(\"I\", [(i+1,j+1) for i in range(2) for j in range(2)],\n",
    "                     lowBound=0, upBound=None, cat='Integer') # I(i,j) from plant i for platform j\n",
    "# Outbound Flows\n",
    "O = LpVariable.dicts(\"O\", [(i+1,j+1) for i in range(2) for j in range(200)],\n",
    "                     lowBound=0, upBound=None, cat='Integer') # O(i,j) from platform i for customer j\n",
    "\n",
    "# 3. Define Objective Function\n",
    "# Total Transportation Cost\n",
    "model += lpSum([df_inbound.iloc[i,j+1] * I[i+1,j+1] for i in range(2) for j in range(2)]) + lpSum([df_outbound.iloc[i,j+1] * O[i+1,j+1] for i in range(2) for j in range(200)]) \n",
    "\n",
    "\n",
    "# 4. Define Constraints\n",
    "# Max capacity for plants\n",
    "# for i in range(5):\n",
    "#     model += lpSum([I[i+1, j+1] for j in range(2)]) <= df_prod.loc[i,'max']\n",
    "# Shipment from DCs higher than demand per store\n",
    "for j in range(200):\n",
    "    model += lpSum([O[i+1, j+1] for i in range(2)]) >= df_demand.loc[j,'DEMAND']\n",
    "# Conservation of the flow in the local DC (X-Docking Platform)\n",
    "for p in range(2):\n",
    "    model += lpSum([I[i+1, p+1] for i in range(2)]) == lpSum([O[p+1, j+1] for j in range(200)])\n",
    "# Maximum Inbound Capacity in Platform i\n",
    "# for p in range(2):\n",
    "#     model += lpSum([I[i+1, p+1] for i in range(5)]) <= df_t.loc[p,'capacity']\n",
    "\n",
    "# Solve Model\n",
    "status = model.solve()\n",
    "print(LpStatus[status])\n",
    "print(\"Objective: z* = {}\".format(\n",
    "    value(model.objective)))\n",
    "\n",
    "# Matrix result\n",
    "inbound, outbound = np.zeros([2,2]), np.zeros([2,200])\n",
    "for i in range(2):\n",
    "    for j in range(2):\n",
    "#         print(I[i+1, j+1].varValue, I[i+1, j+1].name)\n",
    "        inbound[i, j] = I[i+1, j+1].varValue\n",
    "for i in range(2):\n",
    "    for j in range(200):\n",
    "#         print(O[i+1, j+1].varValue, O[i+1, j+1].name)\n",
    "        outbound[i, j] = O[i+1, j+1].varValue"
   ]
  },
  {
   "cell_type": "markdown",
   "metadata": {},
   "source": [
    "### Results"
   ]
  },
  {
   "cell_type": "code",
   "execution_count": 21,
   "metadata": {},
   "outputs": [
    {
     "data": {
      "text/html": [
       "<div>\n",
       "<style scoped>\n",
       "    .dataframe tbody tr th:only-of-type {\n",
       "        vertical-align: middle;\n",
       "    }\n",
       "\n",
       "    .dataframe tbody tr th {\n",
       "        vertical-align: top;\n",
       "    }\n",
       "\n",
       "    .dataframe thead th {\n",
       "        text-align: right;\n",
       "    }\n",
       "</style>\n",
       "<table border=\"1\" class=\"dataframe\">\n",
       "  <thead>\n",
       "    <tr style=\"text-align: right;\">\n",
       "      <th></th>\n",
       "      <th>D1</th>\n",
       "      <th>D2</th>\n",
       "    </tr>\n",
       "  </thead>\n",
       "  <tbody>\n",
       "    <tr>\n",
       "      <th>P1</th>\n",
       "      <td>0</td>\n",
       "      <td>6232</td>\n",
       "    </tr>\n",
       "    <tr>\n",
       "      <th>P2</th>\n",
       "      <td>25574</td>\n",
       "      <td>0</td>\n",
       "    </tr>\n",
       "  </tbody>\n",
       "</table>\n",
       "</div>"
      ],
      "text/plain": [
       "       D1    D2\n",
       "P1      0  6232\n",
       "P2  25574     0"
      ]
     },
     "execution_count": 21,
     "metadata": {},
     "output_type": "execute_result"
    }
   ],
   "source": [
    "# Inbound flow\n",
    "df_resin = pd.DataFrame(data = inbound, index =['P' + str(i+1) for i in range(2)], \n",
    "                        columns = ['D' + str(i+1) for i in range(2)]).astype(int)\n",
    "df_resin.to_csv('df_inbound_flow.csv')\n",
    "df_resin"
   ]
  },
  {
   "cell_type": "code",
   "execution_count": 22,
   "metadata": {},
   "outputs": [
    {
     "data": {
      "text/html": [
       "<div>\n",
       "<style scoped>\n",
       "    .dataframe tbody tr th:only-of-type {\n",
       "        vertical-align: middle;\n",
       "    }\n",
       "\n",
       "    .dataframe tbody tr th {\n",
       "        vertical-align: top;\n",
       "    }\n",
       "\n",
       "    .dataframe thead th {\n",
       "        text-align: right;\n",
       "    }\n",
       "</style>\n",
       "<table border=\"1\" class=\"dataframe\">\n",
       "  <thead>\n",
       "    <tr style=\"text-align: right;\">\n",
       "      <th></th>\n",
       "      <th>D1</th>\n",
       "      <th>D2</th>\n",
       "    </tr>\n",
       "  </thead>\n",
       "  <tbody>\n",
       "    <tr>\n",
       "      <th>S1</th>\n",
       "      <td>244.0</td>\n",
       "      <td>0.0</td>\n",
       "    </tr>\n",
       "    <tr>\n",
       "      <th>S2</th>\n",
       "      <td>172.0</td>\n",
       "      <td>0.0</td>\n",
       "    </tr>\n",
       "    <tr>\n",
       "      <th>S3</th>\n",
       "      <td>124.0</td>\n",
       "      <td>0.0</td>\n",
       "    </tr>\n",
       "    <tr>\n",
       "      <th>S4</th>\n",
       "      <td>90.0</td>\n",
       "      <td>0.0</td>\n",
       "    </tr>\n",
       "    <tr>\n",
       "      <th>S5</th>\n",
       "      <td>158.0</td>\n",
       "      <td>0.0</td>\n",
       "    </tr>\n",
       "    <tr>\n",
       "      <th>...</th>\n",
       "      <td>...</td>\n",
       "      <td>...</td>\n",
       "    </tr>\n",
       "    <tr>\n",
       "      <th>S196</th>\n",
       "      <td>57.0</td>\n",
       "      <td>0.0</td>\n",
       "    </tr>\n",
       "    <tr>\n",
       "      <th>S197</th>\n",
       "      <td>52.0</td>\n",
       "      <td>0.0</td>\n",
       "    </tr>\n",
       "    <tr>\n",
       "      <th>S198</th>\n",
       "      <td>0.0</td>\n",
       "      <td>243.0</td>\n",
       "    </tr>\n",
       "    <tr>\n",
       "      <th>S199</th>\n",
       "      <td>70.0</td>\n",
       "      <td>0.0</td>\n",
       "    </tr>\n",
       "    <tr>\n",
       "      <th>S200</th>\n",
       "      <td>0.0</td>\n",
       "      <td>50.0</td>\n",
       "    </tr>\n",
       "  </tbody>\n",
       "</table>\n",
       "<p>200 rows × 2 columns</p>\n",
       "</div>"
      ],
      "text/plain": [
       "         D1     D2\n",
       "S1    244.0    0.0\n",
       "S2    172.0    0.0\n",
       "S3    124.0    0.0\n",
       "S4     90.0    0.0\n",
       "S5    158.0    0.0\n",
       "...     ...    ...\n",
       "S196   57.0    0.0\n",
       "S197   52.0    0.0\n",
       "S198    0.0  243.0\n",
       "S199   70.0    0.0\n",
       "S200    0.0   50.0\n",
       "\n",
       "[200 rows x 2 columns]"
      ]
     },
     "execution_count": 22,
     "metadata": {},
     "output_type": "execute_result"
    }
   ],
   "source": [
    "# Outbound flow\n",
    "df_resout = pd.DataFrame(data = outbound, index =['D' + str(i+1) for i in range(2)], \n",
    "                        columns = ['S' + str(i+1) for i in range(200)])\n",
    "df_resout.T"
   ]
  },
  {
   "cell_type": "code",
   "execution_count": null,
   "metadata": {
    "collapsed": true
   },
   "outputs": [],
   "source": []
  }
 ],
 "metadata": {
  "kernelspec": {
   "display_name": "Python 3",
   "language": "python",
   "name": "python3"
  },
  "language_info": {
   "codemirror_mode": {
    "name": "ipython",
    "version": 3
   },
   "file_extension": ".py",
   "mimetype": "text/x-python",
   "name": "python",
   "nbconvert_exporter": "python",
   "pygments_lexer": "ipython3",
   "version": "3.6.1"
  }
 },
 "nbformat": 4,
 "nbformat_minor": 2
}
